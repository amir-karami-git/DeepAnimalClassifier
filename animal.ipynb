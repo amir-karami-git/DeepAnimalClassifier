{
 "cells": [
  {
   "cell_type": "code",
   "execution_count": 66,
   "id": "a0b94a26-9e7a-4040-9a1d-7a475a648010",
   "metadata": {},
   "outputs": [],
   "source": [
    "import numpy as np\n",
    "from lr_utils import load_dataset\n",
    "import h5py\n",
    "import time"
   ]
  },
  {
   "cell_type": "code",
   "execution_count": 2,
   "id": "61980954-a786-4148-b4b7-4a7da9040b34",
   "metadata": {},
   "outputs": [],
   "source": [
    "def sigmoid(z):\n",
    "    a = 1/ (1+ np.exp(-z))\n",
    "    return a"
   ]
  },
  {
   "cell_type": "code",
   "execution_count": 3,
   "id": "69185e53-366b-48a4-8aab-828b07226e49",
   "metadata": {},
   "outputs": [],
   "source": [
    "def RELU(z):\n",
    "    a = np.maximum(0, z)\n",
    "    return a"
   ]
  },
  {
   "cell_type": "code",
   "execution_count": 4,
   "id": "d8ecda8b-5618-47ca-b2be-e86e8d608a28",
   "metadata": {},
   "outputs": [],
   "source": [
    "def tanh(z):\n",
    "    a = np.tanh(z)\n",
    "    return a"
   ]
  },
  {
   "cell_type": "code",
   "execution_count": 75,
   "id": "62da26c6-ca0a-4b98-84ad-94cc365a85de",
   "metadata": {},
   "outputs": [],
   "source": [
    "def initialize_zero_W(size_of_w):\n",
    "    w = np.zeros([size_of_w, 1])\n",
    "    return w\n",
    "def initialize_zero_b(size_of_b):\n",
    "    b = np.zeros([size_of_b])\n",
    "    \n",
    "    return b"
   ]
  },
  {
   "cell_type": "code",
   "execution_count": 80,
   "id": "d08cb1b0-d614-4cc4-af9b-caf5be365e67",
   "metadata": {},
   "outputs": [],
   "source": [
    "def initialize_random(size_of_w):\n",
    "    w = np.random.rand(size_of_w,1)\n",
    "    print(w.shape)\n",
    "    return w"
   ]
  },
  {
   "cell_type": "code",
   "execution_count": 13,
   "id": "498fa17b-738f-48dc-bde5-11b0505b1d9a",
   "metadata": {},
   "outputs": [],
   "source": [
    "def forward_propagation(W, X, b):\n",
    "    z = sigmoid(np.dot(W.T, X) + b)\n",
    "    return z"
   ]
  },
  {
   "cell_type": "code",
   "execution_count": 45,
   "id": "125d447e-80e2-461d-b929-af16c77d952f",
   "metadata": {},
   "outputs": [],
   "source": [
    "def backward_propagation(A, Y, X):\n",
    "    m = Y.shape[1]\n",
    "    dw = 1 / m * np.dot(X, (A - Y).T)\n",
    "    db = 1 / m * np.sum(A - Y)\n",
    "    return dw, db\n",
    "def calculate_cost(Y, A):\n",
    "    m = Y.shape[1]\n",
    "    cost = -1 / m * np.sum(Y * np.log(A) + (1 - Y) * np.log(1 - A))\n",
    "    return cost"
   ]
  },
  {
   "cell_type": "code",
   "execution_count": 39,
   "id": "e12db18e-8ebc-4ade-8ab9-ba6ee0c070bc",
   "metadata": {},
   "outputs": [],
   "source": [
    "def perdiction(Z):\n",
    "    for i in range(Z.shape[1]):\n",
    "        if Z[0][i] > 0.5:\n",
    "            Z[0][i] = 1\n",
    "        else:\n",
    "            Z[0][i] = 0\n",
    "    return Z\n",
    "        "
   ]
  },
  {
   "cell_type": "code",
   "execution_count": 106,
   "id": "14ad74ff-aea8-4018-acdf-571609fa31bc",
   "metadata": {},
   "outputs": [],
   "source": [
    "def model(X, Y, learning_rate = 0.01):\n",
    "    W = initialize_zero_W(X.shape[0])\n",
    "    b = initialize_zero_b(1)\n",
    "    for i in range(40000):\n",
    "        A = forward_propagation(W, X, b)\n",
    "        #print(A)\n",
    "        dw, db = backward_propagation(A, Y, X)\n",
    "        W -= learning_rate * dw\n",
    "        b -= learning_rate * db\n",
    "        if i % 1000 == 0:\n",
    "            print(calculate_cost(Y, A))\n",
    "    count = 0\n",
    "    Z = forward_propagation(W, X, b)\n",
    "    for i in range(Y.shape[1]):    \n",
    "        Z = perdiction(Z)\n",
    "        if Z[0][i] == Y[0][i]:\n",
    "            count += 1\n",
    "    print(count/Y.shape[1] * 100)\n",
    "    return W, b"
   ]
  },
  {
   "cell_type": "code",
   "execution_count": 104,
   "id": "7efc8011-15a2-4a74-a791-c0f6932c368b",
   "metadata": {},
   "outputs": [],
   "source": [
    "def test_deep(Y, X, W, b):\n",
    "    count = 0\n",
    "    Z = forward_propagation(W, X, b)\n",
    "    for i in range(Y.shape[1]):\n",
    "        Z = perdiction(Z)\n",
    "        if Z[0][i] == Y[0][i]:\n",
    "            count += 1\n",
    "    print(count/Y.shape[1] * 100)"
   ]
  },
  {
   "cell_type": "code",
   "execution_count": 107,
   "id": "5d59906c-3dea-41bf-9c20-53e8ba10b7e7",
   "metadata": {},
   "outputs": [
    {
     "name": "stdout",
     "output_type": "stream",
     "text": [
      "0.6931471805599453\n",
      "0.11647833125783899\n",
      "0.0698603560502306\n",
      "0.049484807864292366\n",
      "0.038111220065750795\n",
      "0.030898126764563588\n",
      "0.025935721991913505\n",
      "0.022322251603728974\n",
      "0.019578306706133107\n",
      "0.017426330533589742\n",
      "0.015694895547028916\n",
      "0.014272594950365437\n",
      "0.013083985844922543\n",
      "0.012076212679338645\n",
      "0.011211171633234089\n",
      "0.010460716682854646\n",
      "0.009803616348075887\n",
      "0.009223559524177565\n",
      "0.008707812219409083\n",
      "0.008246290581776157\n",
      "0.007830907364920918\n",
      "0.007455102303620898\n",
      "0.007113498825660645\n",
      "0.006801649214592465\n",
      "0.006515842771072725\n",
      "0.006252959549429186\n",
      "0.006010357536986887\n",
      "0.005785784695102938\n",
      "0.005577309705262949\n",
      "0.00538326694447121\n",
      "0.005202212396315293\n",
      "0.005032888046534279\n",
      "0.004874192919685392\n",
      "0.004725159356986327\n",
      "0.004584933462473983\n",
      "0.004452758888233058\n",
      "0.0043279633125988095\n",
      "0.004209947104140405\n",
      "0.00409817377044463\n",
      "0.003992161872567563\n",
      "100.0\n",
      "72.0\n"
     ]
    }
   ],
   "source": [
    "train_set_x_orig, train_set_y, test_set_x_orig, test_set_y, classes = load_dataset()\n",
    "#print(train_set_x_orig.shape, train_set_y.shape, test_set_x_orig.shape, test_set_y.shape)\n",
    "train_set_x_flatten = train_set_x_orig.reshape(train_set_x_orig.shape[0], -1).T\n",
    "test_set_x_flatten = test_set_x_orig.reshape(test_set_x_orig.shape[0], -1).T\n",
    "train_set_x = train_set_x_flatten/255.\n",
    "test_set_x = test_set_x_flatten/255.\n",
    "\n",
    "W, b = model(train_set_x, train_set_y)\n",
    "test_deep(test_set_y, test_set_x, W, b)"
   ]
  },
  {
   "cell_type": "code",
   "execution_count": null,
   "id": "6a315290-4a1e-43c9-86a7-1a018f3655c4",
   "metadata": {},
   "outputs": [],
   "source": []
  },
  {
   "cell_type": "code",
   "execution_count": null,
   "id": "5dd912c1-fdc8-460e-b71d-02a882b66fcf",
   "metadata": {},
   "outputs": [],
   "source": []
  }
 ],
 "metadata": {
  "kernelspec": {
   "display_name": "Python 3 (ipykernel)",
   "language": "python",
   "name": "python3"
  },
  "language_info": {
   "codemirror_mode": {
    "name": "ipython",
    "version": 3
   },
   "file_extension": ".py",
   "mimetype": "text/x-python",
   "name": "python",
   "nbconvert_exporter": "python",
   "pygments_lexer": "ipython3",
   "version": "3.10.12"
  }
 },
 "nbformat": 4,
 "nbformat_minor": 5
}
