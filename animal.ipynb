{
 "cells": [
  {
   "cell_type": "code",
   "execution_count": 1,
   "id": "a0b94a26-9e7a-4040-9a1d-7a475a648010",
   "metadata": {},
   "outputs": [],
   "source": [
    "import numpy as np\n",
    "from lr_utils import load_dataset\n",
    "import h5py\n",
    "import time"
   ]
  },
  {
   "cell_type": "code",
   "execution_count": 22,
   "id": "7dbc2328-01db-417d-b303-3f677f3b6330",
   "metadata": {},
   "outputs": [
    {
     "name": "stdout",
     "output_type": "stream",
     "text": [
      "(209, 64, 64, 3) (1, 209) (50, 64, 64, 3) (1, 50)\n"
     ]
    }
   ],
   "source": [
    "train_set_x_orig, train_set_y, test_set_x_orig, test_set_y, classes = load_dataset()\n",
    "print(train_set_x_orig.shape, train_set_y.shape, test_set_x_orig.shape, test_set_y.shape)\n",
    "train_set_x_flatten = train_set_x_orig.reshape(train_set_x_orig.shape[0], -1).T\n",
    "test_set_x_flatten = test_set_x_orig.reshape(test_set_x_orig.shape[0], -1).T\n",
    "train_set_x = train_set_x_flatten/255.\n",
    "test_set_x = test_set_x_flatten/255."
   ]
  },
  {
   "cell_type": "code",
   "execution_count": 2,
   "id": "61980954-a786-4148-b4b7-4a7da9040b34",
   "metadata": {},
   "outputs": [],
   "source": [
    "def sigmoid(z):\n",
    "    a = 1/ (1+ np.exp(-z))\n",
    "    return a"
   ]
  },
  {
   "cell_type": "code",
   "execution_count": 3,
   "id": "69185e53-366b-48a4-8aab-828b07226e49",
   "metadata": {},
   "outputs": [],
   "source": [
    "def RELU(z):\n",
    "    a = np.maximum(0, z)\n",
    "    return a"
   ]
  },
  {
   "cell_type": "code",
   "execution_count": 4,
   "id": "d8ecda8b-5618-47ca-b2be-e86e8d608a28",
   "metadata": {},
   "outputs": [],
   "source": [
    "def tanh(z):\n",
    "    a = np.tanh(z)\n",
    "    return a"
   ]
  },
  {
   "cell_type": "code",
   "execution_count": 30,
   "id": "62da26c6-ca0a-4b98-84ad-94cc365a85de",
   "metadata": {},
   "outputs": [],
   "source": [
    "def initialize_zero(dim, nodes, parameter):\n",
    "    if parameter == \"w\":\n",
    "        w = np.zeros([dim, nodes])\n",
    "        return w\n",
    "    b = np.zeros([nodes, dim])\n",
    "    return b"
   ]
  },
  {
   "cell_type": "code",
   "execution_count": 55,
   "id": "d08cb1b0-d614-4cc4-af9b-caf5be365e67",
   "metadata": {},
   "outputs": [],
   "source": [
    "def initialize_random(dim, nodes):\n",
    "    w = np.random.rand(dim,nodes) * 0.00001\n",
    "    print(w.shape)\n",
    "    return w"
   ]
  },
  {
   "cell_type": "code",
   "execution_count": 123,
   "id": "9d40ab23-ebe9-4e4d-8042-77f1c87f1cc9",
   "metadata": {},
   "outputs": [],
   "source": [
    "def HE_initialize(dim, nodes):\n",
    "    w = np.random.rand(dim, nodes) * np.sqrt(10/dim)\n",
    "    return w"
   ]
  },
  {
   "cell_type": "code",
   "execution_count": 105,
   "id": "498fa17b-738f-48dc-bde5-11b0505b1d9a",
   "metadata": {},
   "outputs": [],
   "source": [
    "def forward_propagation(w1, w2, b1, b2, X):\n",
    "    A1 = tanh(np.dot(w1.T, X) + b1)\n",
    "    #print(A1, \"\\n\\n\")\n",
    "    A2 = sigmoid(np.dot(w2.T, A1) + b2)\n",
    "    #print(A2)\n",
    "    return A2, A1"
   ]
  },
  {
   "cell_type": "code",
   "execution_count": 106,
   "id": "125d447e-80e2-461d-b929-af16c77d952f",
   "metadata": {},
   "outputs": [],
   "source": [
    "def backward_propagation(A2, A1, Y, X, W2):\n",
    "    m = Y.shape[1]\n",
    "    dZ2 = A2 - Y\n",
    "    dW2 = (1/m) * np.dot(A1, dZ2.T)  # Shape (4, 1)\n",
    "    db2 = (1/m) * np.sum(dZ2, axis=1, keepdims=True) \n",
    "    dZ1 = np.dot(W2, dZ2) * (1 - A1**2)\n",
    "    dW1 = (1/m) * np.dot(X, dZ1.T)  # Shape (12288, 4)\n",
    "    db1 = (1/m) * np.sum(dZ1, axis=1, keepdims=True)  # Shape (4, 1)\n",
    "    return dW1, db1, dW2, db2\n",
    "    "
   ]
  },
  {
   "cell_type": "code",
   "execution_count": 10,
   "id": "7dd1a1a0-4ee7-4745-a859-ba09f5b6a2a0",
   "metadata": {},
   "outputs": [],
   "source": [
    "def calculate_cost(Y, A):\n",
    "    m = Y.shape[1]\n",
    "    epsilon = 1e-8  # Small constant to avoid log(0)\n",
    "    cost = -1 / m * np.sum(Y * np.log(A + epsilon) + (1 - Y) * np.log(1 - A + epsilon))\n",
    "    return cost\n"
   ]
  },
  {
   "cell_type": "code",
   "execution_count": 11,
   "id": "e12db18e-8ebc-4ade-8ab9-ba6ee0c070bc",
   "metadata": {},
   "outputs": [],
   "source": [
    "def perdiction(Z):\n",
    "    for i in range(Z.shape[1]):\n",
    "        if Z[0][i] > 0.5:\n",
    "            Z[0][i] = 1\n",
    "        else:\n",
    "            Z[0][i] = 0\n",
    "    return Z\n",
    "        "
   ]
  },
  {
   "cell_type": "code",
   "execution_count": 120,
   "id": "14ad74ff-aea8-4018-acdf-571609fa31bc",
   "metadata": {},
   "outputs": [],
   "source": [
    "def model(X, Y, learning_rate = 0.1):\n",
    "    w1 = HE_initialize(X.shape[0], 4)\n",
    "    b1 = initialize_zero(1,4,\"b\")\n",
    "    w2 = HE_initialize(4,1)\n",
    "    b2 = initialize_zero(1,1,\"b\")\n",
    "    for i in range(14000):\n",
    "        A2, A1 = forward_propagation(w1, w2, b1, b2, X)\n",
    "        #print(A)\n",
    "        dw1, dw2, db1, db2 = backward_propagation(A2, A1, Y, X, w2)\n",
    "        #print(\"dw1 = \", dw1,\"\\ndw2 = \", dw2,\"\\ndb1 = \", db1,\"\\ndb2 = \", db2)\n",
    "        w1 -= learning_rate * dw1\n",
    "        b1 -= learning_rate * db1\n",
    "        w2 -= learning_rate * dw2\n",
    "        b2 -= learning_rate * db2\n",
    "        if i % 1000 == 0:\n",
    "            print(calculate_cost(Y, A2))\n",
    "    count = 0\n",
    "    A2, A1 = forward_propagation(w1, w2, b1, b2, X)\n",
    "    for i in range(Y.shape[1]):    \n",
    "        A2 = perdiction(A2)\n",
    "        if A2[0][i] == Y[0][i]:\n",
    "            count += 1\n",
    "    print(count/Y.shape[1] * 100)\n",
    "    return w1, w2, b1, b2"
   ]
  },
  {
   "cell_type": "code",
   "execution_count": 121,
   "id": "7efc8011-15a2-4a74-a791-c0f6932c368b",
   "metadata": {},
   "outputs": [],
   "source": [
    "def test_deep(Y, X, w1, w2, b1, b2):\n",
    "    count = 0\n",
    "    Z, A1 = forward_propagation(w1, w2, b1, b2, X)\n",
    "    for i in range(Y.shape[1]):\n",
    "        Z = perdiction(Z)\n",
    "        if Z[0][i] == Y[0][i]:\n",
    "            count += 1\n",
    "    print(count/Y.shape[1] * 100)"
   ]
  },
  {
   "cell_type": "code",
   "execution_count": 124,
   "id": "5d59906c-3dea-41bf-9c20-53e8ba10b7e7",
   "metadata": {},
   "outputs": [
    {
     "name": "stdout",
     "output_type": "stream",
     "text": [
      "2.136635613714409\n",
      "0.6439732381380616\n",
      "0.6439732253437394\n",
      "0.6439732117858518\n",
      "0.6439731973901326\n",
      "0.6439731820719624\n"
     ]
    },
    {
     "ename": "KeyboardInterrupt",
     "evalue": "",
     "output_type": "error",
     "traceback": [
      "\u001b[0;31m---------------------------------------------------------------------------\u001b[0m",
      "\u001b[0;31mKeyboardInterrupt\u001b[0m                         Traceback (most recent call last)",
      "Cell \u001b[0;32mIn[124], line 1\u001b[0m\n\u001b[0;32m----> 1\u001b[0m w1, w2, b1, b2 \u001b[38;5;241m=\u001b[39m \u001b[43mmodel\u001b[49m\u001b[43m(\u001b[49m\u001b[43mtrain_set_x\u001b[49m\u001b[43m,\u001b[49m\u001b[43m \u001b[49m\u001b[43mtrain_set_y\u001b[49m\u001b[43m)\u001b[49m\n\u001b[1;32m      2\u001b[0m test_deep(test_set_y, test_set_x, w1, w2, b1, b2)\n",
      "Cell \u001b[0;32mIn[120], line 7\u001b[0m, in \u001b[0;36mmodel\u001b[0;34m(X, Y, learning_rate)\u001b[0m\n\u001b[1;32m      5\u001b[0m b2 \u001b[38;5;241m=\u001b[39m initialize_zero(\u001b[38;5;241m1\u001b[39m,\u001b[38;5;241m1\u001b[39m,\u001b[38;5;124m\"\u001b[39m\u001b[38;5;124mb\u001b[39m\u001b[38;5;124m\"\u001b[39m)\n\u001b[1;32m      6\u001b[0m \u001b[38;5;28;01mfor\u001b[39;00m i \u001b[38;5;129;01min\u001b[39;00m \u001b[38;5;28mrange\u001b[39m(\u001b[38;5;241m14000\u001b[39m):\n\u001b[0;32m----> 7\u001b[0m     A2, A1 \u001b[38;5;241m=\u001b[39m \u001b[43mforward_propagation\u001b[49m\u001b[43m(\u001b[49m\u001b[43mw1\u001b[49m\u001b[43m,\u001b[49m\u001b[43m \u001b[49m\u001b[43mw2\u001b[49m\u001b[43m,\u001b[49m\u001b[43m \u001b[49m\u001b[43mb1\u001b[49m\u001b[43m,\u001b[49m\u001b[43m \u001b[49m\u001b[43mb2\u001b[49m\u001b[43m,\u001b[49m\u001b[43m \u001b[49m\u001b[43mX\u001b[49m\u001b[43m)\u001b[49m\n\u001b[1;32m      8\u001b[0m     \u001b[38;5;66;03m#print(A)\u001b[39;00m\n\u001b[1;32m      9\u001b[0m     dw1, dw2, db1, db2 \u001b[38;5;241m=\u001b[39m backward_propagation(A2, A1, Y, X, w2)\n",
      "Cell \u001b[0;32mIn[105], line 2\u001b[0m, in \u001b[0;36mforward_propagation\u001b[0;34m(w1, w2, b1, b2, X)\u001b[0m\n\u001b[1;32m      1\u001b[0m \u001b[38;5;28;01mdef\u001b[39;00m\u001b[38;5;250m \u001b[39m\u001b[38;5;21mforward_propagation\u001b[39m(w1, w2, b1, b2, X):\n\u001b[0;32m----> 2\u001b[0m     A1 \u001b[38;5;241m=\u001b[39m tanh(\u001b[43mnp\u001b[49m\u001b[38;5;241;43m.\u001b[39;49m\u001b[43mdot\u001b[49m\u001b[43m(\u001b[49m\u001b[43mw1\u001b[49m\u001b[38;5;241;43m.\u001b[39;49m\u001b[43mT\u001b[49m\u001b[43m,\u001b[49m\u001b[43m \u001b[49m\u001b[43mX\u001b[49m\u001b[43m)\u001b[49m \u001b[38;5;241m+\u001b[39m b1)\n\u001b[1;32m      3\u001b[0m     \u001b[38;5;66;03m#print(A1, \"\\n\\n\")\u001b[39;00m\n\u001b[1;32m      4\u001b[0m     A2 \u001b[38;5;241m=\u001b[39m sigmoid(np\u001b[38;5;241m.\u001b[39mdot(w2\u001b[38;5;241m.\u001b[39mT, A1) \u001b[38;5;241m+\u001b[39m b2)\n",
      "\u001b[0;31mKeyboardInterrupt\u001b[0m: "
     ]
    }
   ],
   "source": [
    "\n",
    "\n",
    "w1, w2, b1, b2 = model(train_set_x, train_set_y)\n",
    "test_deep(test_set_y, test_set_x, w1, w2, b1, b2)"
   ]
  },
  {
   "cell_type": "code",
   "execution_count": null,
   "id": "6a315290-4a1e-43c9-86a7-1a018f3655c4",
   "metadata": {},
   "outputs": [],
   "source": []
  },
  {
   "cell_type": "code",
   "execution_count": null,
   "id": "5dd912c1-fdc8-460e-b71d-02a882b66fcf",
   "metadata": {},
   "outputs": [],
   "source": []
  }
 ],
 "metadata": {
  "kernelspec": {
   "display_name": "Python 3 (ipykernel)",
   "language": "python",
   "name": "python3"
  },
  "language_info": {
   "codemirror_mode": {
    "name": "ipython",
    "version": 3
   },
   "file_extension": ".py",
   "mimetype": "text/x-python",
   "name": "python",
   "nbconvert_exporter": "python",
   "pygments_lexer": "ipython3",
   "version": "3.10.12"
  }
 },
 "nbformat": 4,
 "nbformat_minor": 5
}
