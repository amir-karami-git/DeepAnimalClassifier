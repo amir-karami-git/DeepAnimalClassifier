{
 "cells": [
  {
   "cell_type": "code",
   "execution_count": 3,
   "id": "a0b94a26-9e7a-4040-9a1d-7a475a648010",
   "metadata": {},
   "outputs": [],
   "source": [
    "import numpy as np\n",
    "from lr_utils import load_dataset\n",
    "import h5py\n",
    "import time"
   ]
  },
  {
   "cell_type": "code",
   "execution_count": 20,
   "id": "7dbc2328-01db-417d-b303-3f677f3b6330",
   "metadata": {},
   "outputs": [
    {
     "name": "stdout",
     "output_type": "stream",
     "text": [
      "(209, 64, 64, 3) (1, 209) (50, 64, 64, 3) (1, 50)\n",
      "(12288, 209)\n"
     ]
    }
   ],
   "source": [
    "train_set_x_orig, train_set_y, test_set_x_orig, test_set_y, classes = load_dataset()\n",
    "print(train_set_x_orig.shape, train_set_y.shape, test_set_x_orig.shape, test_set_y.shape)\n",
    "train_set_x_flatten = train_set_x_orig.reshape(train_set_x_orig.shape[0], -1).T\n",
    "test_set_x_flatten = test_set_x_orig.reshape(test_set_x_orig.shape[0], -1).T\n",
    "train_set_x = train_set_x_flatten/255.\n",
    "test_set_x = test_set_x_flatten/255.\n",
    "print(train_set_x.shape)"
   ]
  },
  {
   "cell_type": "code",
   "execution_count": 5,
   "id": "61980954-a786-4148-b4b7-4a7da9040b34",
   "metadata": {},
   "outputs": [],
   "source": [
    "def sigmoid(z):\n",
    "    a = 1/ (1+ np.exp(-z))\n",
    "    return a"
   ]
  },
  {
   "cell_type": "code",
   "execution_count": 6,
   "id": "69185e53-366b-48a4-8aab-828b07226e49",
   "metadata": {},
   "outputs": [],
   "source": [
    "def RELU(z):\n",
    "    a = np.maximum(0, z)\n",
    "    return a"
   ]
  },
  {
   "cell_type": "code",
   "execution_count": 7,
   "id": "d8ecda8b-5618-47ca-b2be-e86e8d608a28",
   "metadata": {},
   "outputs": [],
   "source": [
    "def tanh(z):\n",
    "    a = np.tanh(z)\n",
    "    return a"
   ]
  },
  {
   "cell_type": "code",
   "execution_count": 59,
   "id": "62da26c6-ca0a-4b98-84ad-94cc365a85de",
   "metadata": {},
   "outputs": [],
   "source": [
    "def initialize_zero(dimensions):\n",
    "    layers = dimensions.shape[0]\n",
    "    B = np.empty((layers, 1), dtype=object)\n",
    "\n",
    "    for l in range(layers):\n",
    "        b = np.zeros((dimensions[l][0], 1))\n",
    "        B[l, 0] = b\n",
    "    return B"
   ]
  },
  {
   "cell_type": "code",
   "execution_count": 72,
   "id": "d08cb1b0-d614-4cc4-af9b-caf5be365e67",
   "metadata": {},
   "outputs": [],
   "source": [
    "def initialize_random(dimensions):\n",
    "    layers = dimensions.shape[0]\n",
    "    W = np.empty((layers, 1), dtype=object)\n",
    "    for l in range(layers):\n",
    "        w = np.random.rand(dimensions[l][1], dimensions[l][0])\n",
    "        W[l,0] = w\n",
    "    return W"
   ]
  },
  {
   "cell_type": "code",
   "execution_count": 185,
   "id": "9d40ab23-ebe9-4e4d-8042-77f1c87f1cc9",
   "metadata": {},
   "outputs": [],
   "source": [
    "def HE_initialize(dimensions):\n",
    "    layers = dimensions.shape[0]\n",
    "    W = np.empty((layers, 1), dtype=object)\n",
    "    for l in range(layers):\n",
    "        #print(dimensions[l][1])\n",
    "        w = np.random.rand(dimensions[l][1], dimensions[l][0])* np.sqrt(0.15 /dimensions[l][1])\n",
    "        W[l,0] = w\n",
    "    return W"
   ]
  },
  {
   "cell_type": "code",
   "execution_count": 186,
   "id": "498fa17b-738f-48dc-bde5-11b0505b1d9a",
   "metadata": {},
   "outputs": [],
   "source": [
    "def forward_propagation(W, X, B):\n",
    "    layers = W.shape[0]\n",
    "    A = np.empty((layers+ 1, 1), dtype=object)\n",
    "    A[0][0] = X\n",
    "    for l in range(layers):\n",
    "        z = np.dot(W[l][0].T, A[l][0]) + B[l][0]\n",
    "        if l != layers-1:\n",
    "            a = RELU(z)\n",
    "        else:\n",
    "            a = sigmoid(z)\n",
    "        A[l+1,0] = a\n",
    "    return A"
   ]
  },
  {
   "cell_type": "code",
   "execution_count": 192,
   "id": "7ea30dd8-90f4-455e-9d38-d3f3a48a6c20",
   "metadata": {},
   "outputs": [],
   "source": [
    "#W = HE_initialize(np.array([[3, 12288], [4, 3], [3, 4], [1, 3]]))\n",
    "#print(W[0])\n",
    "#B = initialize_zero(np.array([[3, 12288], [4, 3], [3, 4], [1, 3]]))\n",
    "#A = forward_propagation(W, train_set_x, B)\n",
    "#print(A[4][0])"
   ]
  },
  {
   "cell_type": "code",
   "execution_count": 193,
   "id": "125d447e-80e2-461d-b929-af16c77d952f",
   "metadata": {},
   "outputs": [],
   "source": [
    "def backward_propagation(W, B, A, Y):\n",
    "    m = Y.shape[1]\n",
    "    L = W.shape[0] \n",
    "    dW = np.empty_like(W)\n",
    "    dB = np.empty_like(B)\n",
    "    dZ = None\n",
    "\n",
    "    A_final = A[L, 0]  # A[4]\n",
    "    dZ = A_final - Y  # sigmoid derivative for BCE\n",
    "    dW[L-1, 0] = np.dot(A[L-1, 0], dZ.T) / m  # A3 * dZ4.T\n",
    "    dB[L-1, 0] = np.sum(dZ, axis=1, keepdims=True) / m\n",
    "\n",
    "    for l in reversed(range(L - 1)):\n",
    "        Z = np.dot(W[l, 0].T, A[l, 0]) + B[l, 0]  # recompute Z[l+1]\n",
    "        dA = np.dot(W[l + 1, 0], dZ)  # backprop through W\n",
    "        dZ = dA * (Z > 0)  # ReLU derivative\n",
    "\n",
    "        dW[l, 0] = np.dot(A[l, 0], dZ.T) / m\n",
    "        dB[l, 0] = np.sum(dZ, axis=1, keepdims=True) / m\n",
    "\n",
    "    return dW, dB"
   ]
  },
  {
   "cell_type": "code",
   "execution_count": 194,
   "id": "7dd1a1a0-4ee7-4745-a859-ba09f5b6a2a0",
   "metadata": {},
   "outputs": [],
   "source": [
    "def calculate_cost(Y, A):\n",
    "    m = Y.shape[1]\n",
    "    cost = -1 / m * np.sum(Y * np.log(A) + (1 - Y) * np.log(1 - A))\n",
    "    return cost\n"
   ]
  },
  {
   "cell_type": "code",
   "execution_count": 190,
   "id": "e12db18e-8ebc-4ade-8ab9-ba6ee0c070bc",
   "metadata": {},
   "outputs": [],
   "source": [
    "def perdiction(Z):\n",
    "    for i in range(Z.shape[1]):\n",
    "        if Z[0][i] > 0.5:\n",
    "            Z[0][i] = 1\n",
    "        else:\n",
    "            Z[0][i] = 0\n",
    "    return Z\n",
    "        "
   ]
  },
  {
   "cell_type": "code",
   "execution_count": 228,
   "id": "14ad74ff-aea8-4018-acdf-571609fa31bc",
   "metadata": {},
   "outputs": [],
   "source": [
    "def model(X, Y, learning_rate = 0.01):\n",
    "    W = HE_initialize(np.array([[3, 12288], [4, 3], [3, 4], [1, 3]]))\n",
    "    B = initialize_zero(np.array([[3, 12288], [4, 3], [3, 4], [1, 3]]))\n",
    "    for i in range(40000):\n",
    "        A = forward_propagation(W, X, B)\n",
    "        dW, dB = backward_propagation(W, B, A, Y)\n",
    "        W -= dW * learning_rate\n",
    "        B -= dB * learning_rate\n",
    "        if i%200 ==0:\n",
    "            print(calculate_cost(Y, A[4][0]))\n",
    "    A = forward_propagation(W, X, B)\n",
    "    count = 0\n",
    "    y = perdiction(A[4][0])\n",
    "    for i in range(Y.shape[1]):\n",
    "        if y[0][i] == Y[0][i]:\n",
    "            count += 1\n",
    "    print(count/Y.shape[1] * 100)\n",
    "    return W, B"
   ]
  },
  {
   "cell_type": "code",
   "execution_count": 222,
   "id": "7efc8011-15a2-4a74-a791-c0f6932c368b",
   "metadata": {},
   "outputs": [],
   "source": [
    "def test_deep(Y, X, W, B):\n",
    "    count = 0\n",
    "    A = forward_propagation(W, X, B)\n",
    "    Z = perdiction(A[4][0])\n",
    "    for i in range(Y.shape[1]):\n",
    "        if Z[0][i] == Y[0][i]:\n",
    "            count += 1\n",
    "    print(count/Y.shape[1] * 100)"
   ]
  },
  {
   "cell_type": "code",
   "execution_count": 229,
   "id": "5d59906c-3dea-41bf-9c20-53e8ba10b7e7",
   "metadata": {},
   "outputs": [
    {
     "name": "stdout",
     "output_type": "stream",
     "text": [
      "0.7612850459103361\n",
      "0.6497721981089816\n",
      "0.6477452294387691\n",
      "0.6457815837229363\n",
      "0.6435121458625475\n",
      "0.6401187536683017\n",
      "0.63268123940388\n",
      "0.6078553393241956\n",
      "0.5502677614497481\n",
      "0.4674765443802563\n",
      "0.39506387136729393\n",
      "0.3462450650723731\n",
      "0.39844157332808144\n",
      "0.3067340289741998\n",
      "0.18776825321555743\n",
      "0.1645596279318542\n",
      "0.14326358056815097\n",
      "0.1326525368969064\n",
      "0.13060808664748927\n",
      "0.11854886335551248\n",
      "0.1133983952185194\n",
      "0.10976613152114928\n",
      "0.10737417968682603\n",
      "0.1042559419560439\n",
      "0.10169070034352769\n",
      "0.09991569854105785\n",
      "0.09846225720235492\n",
      "0.09721281695732654\n",
      "0.09618628299497574\n",
      "0.095258313226636\n",
      "0.09443127115907517\n",
      "0.09379495752795916\n",
      "0.09315259560031777\n",
      "0.09288109718944094\n",
      "0.09222499923619693\n",
      "0.09184141939919424\n",
      "0.0914849356368953\n",
      "0.0912472861359033\n",
      "0.09091135668403137\n",
      "0.09067420742842759\n",
      "0.0904978353147457\n",
      "0.09032207053803046\n",
      "0.09022149053322401\n",
      "0.09019451446518001\n",
      "0.08997054720102313\n",
      "0.08971597619249688\n",
      "0.08968294220098935\n",
      "0.08950995618788717\n",
      "0.08968828798405716\n",
      "0.0894142419031011\n",
      "97.60765550239235\n",
      "56.00000000000001\n"
     ]
    }
   ],
   "source": [
    "W, B = model(train_set_x, train_set_y)\n",
    "test_deep(test_set_y, test_set_x, W, B)"
   ]
  },
  {
   "cell_type": "code",
   "execution_count": null,
   "id": "75d53cd7-2d91-40ed-bd79-6d9c07595597",
   "metadata": {},
   "outputs": [],
   "source": []
  }
 ],
 "metadata": {
  "kernelspec": {
   "display_name": "Python 3 (ipykernel)",
   "language": "python",
   "name": "python3"
  },
  "language_info": {
   "codemirror_mode": {
    "name": "ipython",
    "version": 3
   },
   "file_extension": ".py",
   "mimetype": "text/x-python",
   "name": "python",
   "nbconvert_exporter": "python",
   "pygments_lexer": "ipython3",
   "version": "3.10.12"
  }
 },
 "nbformat": 4,
 "nbformat_minor": 5
}
